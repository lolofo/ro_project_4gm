{
 "cells": [
  {
   "cell_type": "markdown",
   "metadata": {},
   "source": [
    "# Programmation de la classe noeud"
   ]
  },
  {
   "cell_type": "code",
   "execution_count": 6,
   "metadata": {},
   "outputs": [],
   "source": [
    "import networkx as nx\n",
    "import pandas as pd\n",
    "import numpy as np\n",
    "import matplotlib.pyplot as plt\n",
    "%matplotlib inline"
   ]
  },
  {
   "cell_type": "markdown",
   "metadata": {},
   "source": [
    "## Structure de la classe Noeuds"
   ]
  },
  {
   "cell_type": "markdown",
   "metadata": {},
   "source": [
    "La classe noeud va nous permettre d'avoir une structure de données qui va contenir les données du problème. Nous allons coder ainsi un ensemble de méthodes, qui vont nous permettre de manipuler cet ensemble de données."
   ]
  },
  {
   "cell_type": "markdown",
   "metadata": {},
   "source": [
    "```\n",
    "class Node :\n",
    "\n",
    "    # attributs\n",
    "\n",
    "    _N\n",
    "    _a\n",
    "    _d\n",
    "    _q\n",
    "\n",
    "    # méthodes de classes\n",
    "     _to_string()\n",
    "\n",
    "    _schrage_schedule()\n",
    "\n",
    "    _construct_conjonctive(schedule)\n",
    "\n",
    "    _longest_path(schedule)\n",
    "\n",
    "    _schrage_makespan()\n",
    "\n",
    "    _critical_search()\n",
    "\n",
    "    \n",
    "\n",
    "\n",
    "\n",
    "```"
   ]
  },
  {
   "cell_type": "code",
   "execution_count": 8,
   "metadata": {},
   "outputs": [],
   "source": [
    "class Node :\n",
    "\n",
    "    def __init__ (self , N , a , d , q) :\n",
    "\n",
    "        self._N = []\n",
    "        self._a = {}\n",
    "        self._d = {}\n",
    "        self._q = {}\n",
    "\n",
    "        k = 0\n",
    "\n",
    "        for i in N :\n",
    "\n",
    "            self._N.append(i)\n",
    "            self._a[i] = a[k]\n",
    "            self._q[i] = q[k]\n",
    "            self._d[i] = d[k]\n",
    "\n",
    "            k+=1"
   ]
  },
  {
   "cell_type": "markdown",
   "metadata": {},
   "source": [
    "Creation of a first node. This first node, is the node that is given "
   ]
  },
  {
   "cell_type": "code",
   "execution_count": 9,
   "metadata": {},
   "outputs": [],
   "source": [
    "''' \n",
    "Beware the different set have to be sorted with respect to N\n",
    "'''\n",
    "\n",
    "N = list(range(1,8))\n",
    "a = [10,13,11,20,30,0,30]\n",
    "d = [5,6,7,4,3,6,2]\n",
    "q = [7,26,24,21,8,17,0]\n",
    "\n",
    "e = Node(N,a,d,q)"
   ]
  },
  {
   "cell_type": "markdown",
   "metadata": {},
   "source": [
    "### Implémentation des méthodes de classe."
   ]
  },
  {
   "cell_type": "markdown",
   "metadata": {},
   "source": [
    "Nous allons dans la suite programmer les différentes méthodes de la classe **Node**, et les ajouter à notre structure, à l'aide de la fonction **setattr** que propose R"
   ]
  },
  {
   "cell_type": "markdown",
   "metadata": {},
   "source": [
    "#### Une méthode d'affichage"
   ]
  },
  {
   "cell_type": "markdown",
   "metadata": {},
   "source": [
    "Cette première méthode d'affichage, permettra par la suite de venir afficher notre noeud. Elle ne nous servira que pour des petites instances de notre problème."
   ]
  },
  {
   "cell_type": "code",
   "execution_count": 10,
   "metadata": {},
   "outputs": [
    {
     "name": "stdout",
     "output_type": "stream",
     "text": [
      "Task :  1 2 3 4 5 6 7 \n",
      "        10 13 11 20 30 0 30 \n",
      "        5 6 7 4 3 6 2 \n",
      "        7 26 24 21 8 17 0 "
     ]
    }
   ],
   "source": [
    "def _to_string(self) :\n",
    "\n",
    "    '''\n",
    "    print of the node\n",
    "    '''\n",
    "\n",
    "    print(\"Task : \" , end =\" \")\n",
    "\n",
    "    for i in self._N :\n",
    "        print(i , end = \" \")\n",
    "    print()\n",
    "    print(\"       \",end = \" \")\n",
    "\n",
    "    for i in self._N :\n",
    "        s = str(self._a[i])\n",
    "        print(s , end = \" \")\n",
    "    print()\n",
    "    print(\"       \",end = \" \")\n",
    "    for i in self._N :\n",
    "        s = str(self._d[i])\n",
    "        print(s , end = \" \")\n",
    "    print()\n",
    "    print(\"       \",end = \" \")\n",
    "    for i in self._N :\n",
    "        s = str(self._q[i])\n",
    "        print(s , end = \" \")\n",
    "\n",
    "setattr(Node , \"_to_string\" , _to_string)\n",
    "\n",
    "e._to_string()"
   ]
  },
  {
   "cell_type": "markdown",
   "metadata": {},
   "source": [
    "#### Travail sur le graphe de conjonction"
   ]
  },
  {
   "cell_type": "markdown",
   "metadata": {},
   "source": [
    "Dans cette section nous allons travailler sur le graphe de conjonction associé à une programmation de Schrage. Ce graphe de programmation joue un rôle essentiel, que nous allons bien expliquer par la suite.\n",
    "\n",
    "- La première fonction prend en argument simplement une programmation (une permutation de notre ensemble de tache), et va venir construire le graphe de conjonction associé à cette programmation. La sortie de cette fonction est un graphe networkx orienté (**nx.DiGraph**)\n",
    "\n",
    "- La seconde fonction prend en argument aussi une programmation. Elle vient construire le graphe de conjonction, et trouve ensuite le plus long chemin dans ce graphe. Elle rend un dictionnaire python avec une valeur de plus long chemin, et un chemin.\n",
    "\n",
    "Dans cette partie on pourra en faite s'amuser à venir optimiser notre fonction de recherche de plus long chemin."
   ]
  },
  {
   "cell_type": "code",
   "execution_count": 96,
   "metadata": {},
   "outputs": [],
   "source": [
    "def _construct_conjonctive (self , schedule):\n",
    "    ''' \n",
    "    output : the conjonctive graph for a given schedule\n",
    "    '''\n",
    "\n",
    "    # construction of a directed graph :\n",
    "    G = nx.DiGraph() \n",
    "\n",
    "    # construction of the submit :\n",
    "\n",
    "    sbm = ['s','t']+schedule\n",
    "    G.add_nodes_from(sbm)\n",
    "\n",
    "    # construction of the edges.\n",
    "    # shcedule --> permutation of element of self._N\n",
    "\n",
    "\n",
    "    for i in range(len(schedule)) :\n",
    "\n",
    "        curr = schedule[i]\n",
    "        \n",
    "        e1 = (\"s\",curr , self._a[curr])\n",
    "        e2 = (curr,\"t\",self._q[curr]+self._d[curr])\n",
    "        # we check if we are at the last task of the schedule\n",
    "        if i != len(schedule)-1 :\n",
    "            next = schedule[i+1]\n",
    "            e3 = (curr,next,self._d[curr]) # creation of the last edges.\n",
    "            G.add_weighted_edges_from([e1,e2,e3])\n",
    "        else :\n",
    "            G.add_weighted_edges_from([e1,e2])\n",
    "    \n",
    "    # we return the conjunctive graph.\n",
    "    return(G)\n",
    "\n",
    "setattr(Node , \"_construct_conjonctive\" , _construct_conjonctive)\n",
    "\n"
   ]
  },
  {
   "cell_type": "code",
   "execution_count": 99,
   "metadata": {},
   "outputs": [],
   "source": [
    "def _print_graph(self , schedule , Larg , Haut) :\n",
    "    \n",
    "    G = self._construct_conjonctive(schedule)\n",
    "\n",
    "    pos = {} # positions of the node.\n",
    "    \n",
    "    set_x = 0\n",
    "    set_y = len(schedule)*100\n",
    "    dy = -200\n",
    "\n",
    "    \n",
    "    for t in schedule : \n",
    "        pos[t] = [set_x , set_y]\n",
    "        set_y += dy\n",
    "\n",
    "    # position of the sources nodes.\n",
    "    pos['s'] = [-1 , 0]\n",
    "    pos['t'] = [1, 0]\n",
    "\n",
    "\n",
    "    options = {\n",
    "    #'node_color' : couleurs_sommets,\n",
    "    'node_size'  : 550,\n",
    "    'pos' : pos,\n",
    "    #'edge_color' : colors,\n",
    "    'with_labels': True,\n",
    "    }\n",
    "\n",
    "    fig = plt.figure(figsize=(Larg,Haut))\n",
    "    nx.draw(G,**options)\n",
    "    labels = nx.get_edge_attributes(G,'weight')\n",
    "\n",
    "\n",
    "    nx.draw_networkx_edge_labels(G,edge_labels = labels,pos = pos)\n",
    "    # title of the print\n",
    "    plt.title(\"Conjunctive graph associate with : {}\".format(schedule))\n",
    "    plt.show()\n",
    "\n",
    "setattr(Node , \"_print_graph\" , _print_graph)"
   ]
  },
  {
   "cell_type": "code",
   "execution_count": 100,
   "metadata": {},
   "outputs": [
    {
     "data": {
      "image/png": "[encoded data removed]",
      "text/plain": [
       "<Figure size 504x504 with 1 Axes>"
      ]
     },
     "metadata": {},
     "output_type": "display_data"
    }
   ],
   "source": [
    "tab = [6, 1, 2, 3, 4, 5, 7] # schedule of the subject\n",
    "e._print_graph(tab , 7,7) # print of the schedule."
   ]
  },
  {
   "cell_type": "markdown",
   "metadata": {},
   "source": [
    "The objective now is to create an algorithme that find the longest path in this graph."
   ]
  },
  {
   "cell_type": "code",
   "execution_count": 101,
   "metadata": {},
   "outputs": [],
   "source": [
    "def _longest_path(self, schedule):\n",
    "    '''\n",
    "    output : python dictionnary\n",
    "        - value : the length of the longest past\n",
    "        - path : the tasks of N in the path.\n",
    "    '''\n",
    "    G = self._construct_conjonctive(schedule)\n",
    "\n",
    "    res = {'value' : 0 , 'path' : []}\n",
    "\n",
    "\n",
    "    \n",
    "    return(res)\n",
    "\n",
    "\n",
    "setattr(Node , \"_longest_path\" , _longest_path)"
   ]
  },
  {
   "cell_type": "markdown",
   "metadata": {},
   "source": [
    "#### Work on the Schrage schedule"
   ]
  },
  {
   "cell_type": "markdown",
   "metadata": {},
   "source": [
    "Now we need to find the schrage schedule. This particular schedule, is at the heart of the proble, and will help us to find a solution of the problem. The schrage schedule of a given node, is just a special permutation of the set _N of this node. The next function will show how to find this schedule."
   ]
  },
  {
   "cell_type": "code",
   "execution_count": null,
   "metadata": {},
   "outputs": [],
   "source": [
    "def _schrage_schedule(self) :\n",
    "        pass\n",
    "\n",
    "\n",
    "\n",
    "\n",
    "setattr(Node , \"_schrage_schedule\" , _schrage_schedule)"
   ]
  },
  {
   "cell_type": "code",
   "execution_count": null,
   "metadata": {},
   "outputs": [],
   "source": [
    "def _schrage_makespan(self) :\n",
    "    '''\n",
    "    output : {'makespan' : int , 'longest_path : int []}\n",
    "\n",
    "        'longest_path' : list of element of self._N.\n",
    "        'makespan' : length of the longest path (length of longest path).\n",
    "    '''\n",
    "\n",
    "    res = {'makespan' : 0 , 'longest_path' : []}\n",
    "\n",
    "    shr_schedule = self._schrage_schedule() # on récupère la programmation de Schrage\n",
    "\n",
    "    long_path = self._longest_path(shr_schedule) # we stock the longest path.\n",
    "\n",
    "    # on utilise ensuite les sorties de la fonction _longest_path(int [] tab)\n",
    "    res[\"longest_path\"] = long_path['path']\n",
    "    res[\"makespan\"] = long_path['value']\n",
    "\n",
    "    return(res)\n",
    "\n",
    "\n",
    "setattr(Node , \"_schrage_makespan\" , _schrage_makespan)"
   ]
  },
  {
   "cell_type": "markdown",
   "metadata": {},
   "source": [
    "#### Recherche des ensembles critiques"
   ]
  },
  {
   "cell_type": "markdown",
   "metadata": {},
   "source": [
    "Dans cette section, nous allons nous concentrer sur la recherche des ensembles critiques qui sont liés à un noeud en particulier. Ces ensembles critiques vont nous permettre d'identifier dans notre programmation les ensembles qui posent problème."
   ]
  },
  {
   "cell_type": "code",
   "execution_count": null,
   "metadata": {},
   "outputs": [],
   "source": [
    "def _critical_search(self) :\n",
    "\n",
    "    '''\n",
    "    output : python dictionnary\n",
    "        - makespan : time of the schedule\n",
    "        - status : status of the schrage schedule\n",
    "        - J : critical set (if it exists)\n",
    "        - jc : critical task (if it exists)\n",
    "    '''\n",
    "    \n",
    "    output_schrage = self._schrage_makespan()\n",
    "\n",
    "    res = {'makespan' : output_schrage['makespan']} # dictionnary to return\n",
    "    \n",
    "\n",
    "    path = output_schrage['longest_path']\n",
    "\n",
    "    # variables to return\n",
    "\n",
    "    jp = path[-1] # last task of the schrage schedule\n",
    "    target = self._q[jp]\n",
    "    J = [jp]\n",
    "    jc = -1\n",
    "    status = ''\n",
    "\n",
    "    # searche of a potential critical task\n",
    "    for i in range(len(path)-2 , -1 , -1) :\n",
    "\n",
    "        jk = path[i]\n",
    "        buff = self._q[jk]\n",
    "\n",
    "        if (buff<target) :\n",
    "            jc = jk\n",
    "            break\n",
    "        else :\n",
    "            J.append(jk)\n",
    "\n",
    "    \n",
    "    if(jc == -1):\n",
    "        # critical task not found --> schrage schedule is optimal\n",
    "        J = []\n",
    "        status = 'optimal'\n",
    "    else : \n",
    "        status = 'not_optimal'\n",
    "\n",
    "    \n",
    "    # new values for the dictionnary\n",
    "    res['J'] = J\n",
    "    res['jc'] = jc\n",
    "    res['status'] = status\n",
    "\n",
    "\n",
    "    return(res)\n",
    "\n",
    "setattr(Node,\"_critical_search\",_critical_search)"
   ]
  }
 ],
 "metadata": {
  "interpreter": {
   "hash": "d67c45d9b186088e3b99159ee691d7fe09cdbf8c17773fe23166cc55db3a2440"
  },
  "kernelspec": {
   "display_name": "Python 3.9.7 64-bit ('opti': conda)",
   "language": "python",
   "name": "python3"
  },
  "language_info": {
   "codemirror_mode": {
    "name": "ipython",
    "version": 3
   },
   "file_extension": ".py",
   "mimetype": "text/x-python",
   "name": "python",
   "nbconvert_exporter": "python",
   "pygments_lexer": "ipython3",
   "version": "3.9.7"
  },
  "orig_nbformat": 4
 },
 "nbformat": 4,
 "nbformat_minor": 2
}
