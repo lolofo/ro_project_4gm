{
 "cells": [
  {
   "cell_type": "markdown",
   "metadata": {},
   "source": [
    "# Programmation de la classe noeud"
   ]
  },
  {
   "cell_type": "code",
   "execution_count": 23,
   "metadata": {},
   "outputs": [],
   "source": [
    "import networkx as nx\n",
    "import pandas as pd\n",
    "import numpy as np"
   ]
  },
  {
   "cell_type": "markdown",
   "metadata": {},
   "source": [
    "## Travail sur le graphe de conjonction"
   ]
  },
  {
   "cell_type": "code",
   "execution_count": null,
   "metadata": {},
   "outputs": [],
   "source": [
    "def construct_conjonctive (schedule):\n",
    "    pass"
   ]
  },
  {
   "cell_type": "code",
   "execution_count": null,
   "metadata": {},
   "outputs": [],
   "source": [
    "def print_conjonctive(schedule) :\n",
    "    pass"
   ]
  },
  {
   "cell_type": "code",
   "execution_count": null,
   "metadata": {},
   "outputs": [],
   "source": [
    "def longest_path(schedule):\n",
    "    '''\n",
    "    output : python dictionnary\n",
    "        - value : the length of the longest past\n",
    "        - path : the tasks of N in the path.\n",
    "    '''\n",
    "    G = construct_conjonctive(schedule)\n",
    "    res = {'value' : 0 , 'path' : []}\n",
    "\n",
    "\n",
    "    # recherche du plus long chemin\n",
    "    return(res)\n",
    "\n"
   ]
  },
  {
   "cell_type": "markdown",
   "metadata": {},
   "source": [
    "## Structure de la classe Noeuds"
   ]
  },
  {
   "cell_type": "markdown",
   "metadata": {},
   "source": [
    "- intégration du diagramme uml\n",
    "- présentation des variables et des méthodes"
   ]
  },
  {
   "cell_type": "code",
   "execution_count": 18,
   "metadata": {},
   "outputs": [],
   "source": [
    "class Node :\n",
    "\n",
    "    def __init__ (self , N , a , d , q) :\n",
    "\n",
    "        self._N = []\n",
    "        self._a = {}\n",
    "        self._d = {}\n",
    "        self._q = {}\n",
    "\n",
    "        k = 0\n",
    "\n",
    "        for i in N :\n",
    "\n",
    "            self._N.append(i)\n",
    "            self._a[i] = a[k]\n",
    "            self._q[i] = q[k]\n",
    "            self._d[i] = d[k]\n",
    "\n",
    "            k+=1\n",
    "\n",
    "    def _to_string(self) :\n",
    "\n",
    "        '''\n",
    "        print of the node\n",
    "        '''\n",
    "\n",
    "        print(\"Task : \" , end =\" \")\n",
    "\n",
    "        for i in self._N :\n",
    "            print(i , end = \" \")\n",
    "        print()\n",
    "        print(\"       \",end = \" \")\n",
    "\n",
    "        for i in self._N :\n",
    "            s = str(self._a[i])\n",
    "            print(s , end = \" \")\n",
    "        print()\n",
    "        print(\"       \",end = \" \")\n",
    "        for i in self._N :\n",
    "            s = str(self._d[i])\n",
    "            print(s , end = \" \")\n",
    "        print()\n",
    "        print(\"       \",end = \" \")\n",
    "        for i in self._N :\n",
    "            s = str(self._q[i])\n",
    "            print(s , end = \" \")\n",
    "\n",
    "    \n",
    "\n",
    "    # \n",
    "\n",
    "    def _schrage_schedule(self) :\n",
    "        pass\n",
    "\n",
    "    \n",
    "    def _schrage_makespan(self) :\n",
    "        '''\n",
    "        output : {'makespan' : int , 'longest_path : int []}\n",
    "\n",
    "            'longest_path' : list of element of self._N.\n",
    "            'makespan' : longueure du plus long chemin.\n",
    "        '''\n",
    "\n",
    "        res = {'makespan' : 0 , 'longest_path' : []}\n",
    "\n",
    "        shr_schedule = self._schrage_schedule()\n",
    "\n",
    "        long_path = longest_path(shr_schedule)\n",
    "\n",
    "        res[\"longest_path\"] = long_path\n",
    "\n",
    "        return(res)\n",
    "\n",
    "\n",
    "\n",
    "    def _critical_search(self) :\n",
    "\n",
    "        '''\n",
    "        output : python dictionnary\n",
    "            - makespan : time of the schedule\n",
    "            - \n",
    "        '''\n",
    "        \n",
    "        output_schrage = self._schrage_makespan()\n",
    "\n",
    "        res = {'makespan' : output_schrage['makespan']} # dictionnary to return\n",
    "        \n",
    "\n",
    "        path = output_schrage['longest_path']\n",
    "\n",
    "        # variables to return\n",
    "\n",
    "        jp = path[-1] # last task of the schrage schedule\n",
    "        target = self._q[jp]\n",
    "        J = [jp]\n",
    "        jc = -1\n",
    "        status = ''\n",
    "\n",
    "        for i in range(len(path)-2 , -1 , -1) :\n",
    "\n",
    "            jk = path[i]\n",
    "            buff = self._q[jk]\n",
    "\n",
    "            if (buff<target) :\n",
    "                jc = jk\n",
    "                break\n",
    "            else :\n",
    "                J.append(jk)\n",
    "\n",
    "        \n",
    "        if(jc==-1):\n",
    "            # critical task not found --> schrage schedule is optimal\n",
    "            b = True\n",
    "            J = []\n",
    "            status = 'optimal'\n",
    "        else : \n",
    "            status = 'not_optimal'\n",
    "\n",
    "        \n",
    "        # new values for the dictionnary\n",
    "        res['J'] = J\n",
    "        res['jc'] = jc\n",
    "        res['status'] = status\n",
    "\n",
    "\n",
    "        return(res)\n",
    "        \n",
    "\n",
    "\n",
    "\n",
    "\n",
    "\n",
    "\n",
    "\n",
    "\n",
    "\n",
    "\n",
    "\n"
   ]
  },
  {
   "cell_type": "markdown",
   "metadata": {},
   "source": [
    "Exemple de l'utilisation de la fonction **_to_string**"
   ]
  },
  {
   "cell_type": "code",
   "execution_count": 19,
   "metadata": {},
   "outputs": [
    {
     "name": "stdout",
     "output_type": "stream",
     "text": [
      "Task :  1 2 3 4 5 6 7 \n",
      "        10 13 11 20 30 0 30 \n",
      "        5 6 7 4 3 6 2 \n",
      "        7 26 24 21 8 17 0 "
     ]
    }
   ],
   "source": [
    "''' \n",
    "Node of the subject :\n",
    "'''\n",
    "\n",
    "N = list(range(1,8))\n",
    "a = [10,13,11,20,30,0,30]\n",
    "d = [5,6,7,4,3,6,2]\n",
    "q = [7,26,24,21,8,17,0]\n",
    "\n",
    "e = Node(N,a,d,q)\n",
    "e._to_string()"
   ]
  },
  {
   "cell_type": "code",
   "execution_count": null,
   "metadata": {},
   "outputs": [],
   "source": []
  }
 ],
 "metadata": {
  "interpreter": {
   "hash": "d67c45d9b186088e3b99159ee691d7fe09cdbf8c17773fe23166cc55db3a2440"
  },
  "kernelspec": {
   "display_name": "Python 3.9.7 64-bit ('opti': conda)",
   "language": "python",
   "name": "python3"
  },
  "language_info": {
   "codemirror_mode": {
    "name": "ipython",
    "version": 3
   },
   "file_extension": ".py",
   "mimetype": "text/x-python",
   "name": "python",
   "nbconvert_exporter": "python",
   "pygments_lexer": "ipython3",
   "version": "3.9.7"
  },
  "orig_nbformat": 4
 },
 "nbformat": 4,
 "nbformat_minor": 2
}
