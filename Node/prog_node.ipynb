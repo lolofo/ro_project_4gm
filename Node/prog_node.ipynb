{
 "cells": [
  {
   "cell_type": "markdown",
   "metadata": {},
   "source": [
    "# Programmation de la classe noeud"
   ]
  },
  {
   "cell_type": "code",
   "execution_count": 10,
   "metadata": {},
   "outputs": [],
   "source": [
    "import networkx as nx               # network graph manipulation\n",
    "\n",
    "import pandas as pd                 # data mnipulation\n",
    "import numpy as np                  # ----------------\n",
    "\n",
    "import matplotlib.pyplot as plt     # show graphics\n",
    "%matplotlib inline\n",
    "\n",
    "import math                         # mathematics tools\n"
   ]
  },
  {
   "cell_type": "markdown",
   "metadata": {},
   "source": [
    "## Structure de la classe Noeuds"
   ]
  },
  {
   "cell_type": "markdown",
   "metadata": {},
   "source": [
    "La classe noeud va nous permettre d'avoir une structure de données qui va contenir les données du problème. Nous allons coder ainsi un ensemble de méthodes, qui vont nous permettre de manipuler cet ensemble de données."
   ]
  },
  {
   "cell_type": "markdown",
   "metadata": {},
   "source": [
    "```\n",
    "class Node :\n",
    "\n",
    "    # attributs\n",
    "\n",
    "    _N\n",
    "    _a\n",
    "    _d\n",
    "    _q\n",
    "\n",
    "    # méthodes de classes\n",
    "     _to_string()\n",
    "\n",
    "    _schrage_schedule()\n",
    "\n",
    "    _construct_conjonctive(schedule)\n",
    "\n",
    "    _longest_path(schedule)\n",
    "\n",
    "    _schrage_makespan()\n",
    "\n",
    "    _critical_search()\n",
    "\n",
    "    \n",
    "\n",
    "\n",
    "\n",
    "```"
   ]
  },
  {
   "cell_type": "code",
   "execution_count": 11,
   "metadata": {},
   "outputs": [],
   "source": [
    "class Node :\n",
    "\n",
    "    def __init__ (self , N , a , d , q) :\n",
    "\n",
    "        self._N = []\n",
    "        self._a = {}\n",
    "        self._d = {}\n",
    "        self._q = {}\n",
    "\n",
    "        k = 0\n",
    "\n",
    "        for i in N :\n",
    "\n",
    "            self._N.append(i)\n",
    "            self._a[i] = a[k]\n",
    "            self._q[i] = q[k]\n",
    "            self._d[i] = d[k]\n",
    "\n",
    "            k+=1"
   ]
  },
  {
   "cell_type": "markdown",
   "metadata": {},
   "source": [
    "Creation of a first node. This first node, is the node that is given "
   ]
  },
  {
   "cell_type": "code",
   "execution_count": 55,
   "metadata": {},
   "outputs": [],
   "source": [
    "''' \n",
    "Beware the different set have to be sorted with respect to N\n",
    "'''\n",
    "\n",
    "N = list(range(1,8))\n",
    "a = [10,13,11,20,30,0,30]\n",
    "d = [5,6,7,4,3,6,2]\n",
    "q = [7,26,24,21,8,17,0]\n",
    "\n",
    "e = Node(N,a,d,q)"
   ]
  },
  {
   "cell_type": "markdown",
   "metadata": {},
   "source": [
    "### Implémentation des méthodes de classe."
   ]
  },
  {
   "cell_type": "markdown",
   "metadata": {},
   "source": [
    "Nous allons dans la suite programmer les différentes méthodes de la classe **Node**, et les ajouter à notre structure, à l'aide de la fonction **setattr** que propose R"
   ]
  },
  {
   "cell_type": "markdown",
   "metadata": {},
   "source": [
    "#### Une méthode d'affichage"
   ]
  },
  {
   "cell_type": "markdown",
   "metadata": {},
   "source": [
    "Cette première méthode d'affichage, permettra par la suite de venir afficher notre noeud. Elle ne nous servira que pour des petites instances de notre problème."
   ]
  },
  {
   "cell_type": "code",
   "execution_count": 40,
   "metadata": {},
   "outputs": [
    {
     "name": "stdout",
     "output_type": "stream",
     "text": [
      "Task :  1 2 3 4 5 6 7 \n",
      "        10 13 11 20 30 0 30 \n",
      "        5 6 7 4 3 6 2 \n",
      "        7 26 24 21 8 17 0 "
     ]
    }
   ],
   "source": [
    "def _to_string(self) :\n",
    "\n",
    "    '''\n",
    "    print of the node\n",
    "    '''\n",
    "\n",
    "    print(\"Task : \" , end =\" \")\n",
    "\n",
    "    for i in self._N :\n",
    "        print(i , end = \" \")\n",
    "    print()\n",
    "    print(\"       \",end = \" \")\n",
    "\n",
    "    for i in self._N :\n",
    "        s = str(self._a[i])\n",
    "        print(s , end = \" \")\n",
    "    print()\n",
    "    print(\"       \",end = \" \")\n",
    "    for i in self._N :\n",
    "        s = str(self._d[i])\n",
    "        print(s , end = \" \")\n",
    "    print()\n",
    "    print(\"       \",end = \" \")\n",
    "    for i in self._N :\n",
    "        s = str(self._q[i])\n",
    "        print(s , end = \" \")\n",
    "\n",
    "setattr(Node , \"_to_string\" , _to_string)\n",
    "\n",
    "e._to_string()"
   ]
  },
  {
   "cell_type": "markdown",
   "metadata": {},
   "source": [
    "#### Travail sur le graphe de conjonction"
   ]
  },
  {
   "cell_type": "markdown",
   "metadata": {},
   "source": [
    "Dans cette section nous allons travailler sur le graphe de conjonction associé à une programmation de Schrage. Ce graphe de programmation joue un rôle essentiel, que nous allons bien expliquer par la suite.\n",
    "\n",
    "- La première fonction prend en argument simplement une programmation (une permutation de notre ensemble de tache), et va venir construire le graphe de conjonction associé à cette programmation. La sortie de cette fonction est un graphe networkx orienté (**nx.DiGraph**)\n",
    "\n",
    "- La seconde fonction prend en argument aussi une programmation. Elle vient construire le graphe de conjonction, et trouve ensuite le plus long chemin dans ce graphe. Elle rend un dictionnaire python avec une valeur de plus long chemin, et un chemin.\n",
    "\n",
    "Dans cette partie on pourra en faite s'amuser à venir optimiser notre fonction de recherche de plus long chemin."
   ]
  },
  {
   "cell_type": "code",
   "execution_count": 41,
   "metadata": {},
   "outputs": [],
   "source": [
    "def _construct_conjonctive (self , schedule):\n",
    "    ''' \n",
    "    output : the conjonctive graph for a given schedule\n",
    "    '''\n",
    "\n",
    "    # construction of a directed graph :\n",
    "    G = nx.DiGraph() \n",
    "\n",
    "    # construction of the submit :\n",
    "\n",
    "    sbm = ['s','t']+schedule\n",
    "    G.add_nodes_from(sbm)\n",
    "\n",
    "    # construction of the edges.\n",
    "    # shcedule --> permutation of element of self._N\n",
    "\n",
    "\n",
    "    for i in range(len(schedule)) :\n",
    "\n",
    "        curr = schedule[i]\n",
    "        \n",
    "        e1 = (\"s\",curr , self._a[curr])\n",
    "        e2 = (curr,\"t\",self._q[curr]+self._d[curr])\n",
    "        # we check if we are at the last task of the schedule\n",
    "        if i != len(schedule)-1 :\n",
    "            next = schedule[i+1]\n",
    "            e3 = (curr,next,self._d[curr]) # creation of the last edges.\n",
    "            G.add_weighted_edges_from([e1,e2,e3])\n",
    "        else :\n",
    "            G.add_weighted_edges_from([e1,e2])\n",
    "    \n",
    "    # we return the conjunctive graph.\n",
    "    return(G)\n",
    "\n",
    "setattr(Node , \"_construct_conjonctive\" , _construct_conjonctive)\n",
    "\n"
   ]
  },
  {
   "cell_type": "code",
   "execution_count": 42,
   "metadata": {},
   "outputs": [],
   "source": [
    "def _print_graph(self , schedule , path ,Larg , Haut) :\n",
    "    \n",
    "    G = self._construct_conjonctive(schedule)\n",
    "\n",
    "    # color of the edges\n",
    "    for (u,v) in G.edges():\n",
    "        G[u][v]['color'] = 'grey'\n",
    "\n",
    "    for k in range(len(path)) :\n",
    "        curr = path[k] # current note\n",
    "        if k==0 :\n",
    "            next = path[k+1]\n",
    "            G['s'][curr]['color'] = 'red'\n",
    "            G[curr][next]['color'] = 'red'\n",
    "\n",
    "        elif k == len(path)-1 :\n",
    "            G[curr]['t']['color'] = 'red'\n",
    "\n",
    "        else :\n",
    "\n",
    "            next = path[k+1]\n",
    "            G[curr][next]['color'] = 'red'\n",
    "\n",
    "    colors = [G[u][v]['color'] for u,v in G.edges()]\n",
    "    weights = [G[u][v]['weight'] for u,v in G.edges()]\n",
    "\n",
    "    # color of the nodes\n",
    "    couleurs_sommets = [\"yellow\"] * G.number_of_nodes()   \n",
    "\n",
    "\n",
    "    pos = {} # positions of the node.\n",
    "    \n",
    "    set_x = 0\n",
    "    set_y = len(schedule)/2\n",
    "    dy = -1\n",
    "\n",
    "    \n",
    "    for t in schedule : \n",
    "        pos[t] = [set_x , set_y]\n",
    "        set_y += dy\n",
    "\n",
    "    # position of the sources nodes.\n",
    "    pos['s'] = [-1 , 0]\n",
    "    pos['t'] = [1, 0]\n",
    "\n",
    "\n",
    "    options = {\n",
    "    'node_color' : couleurs_sommets,\n",
    "    'node_size'  : 550,\n",
    "    'pos' : pos,\n",
    "    'edge_color' : colors,\n",
    "    'with_labels': True,\n",
    "    }\n",
    "\n",
    "    fig = plt.figure(figsize=(Larg,Haut))\n",
    "    nx.draw(G,**options)\n",
    "    labels = nx.get_edge_attributes(G,'weight')\n",
    "\n",
    "\n",
    "    nx.draw_networkx_edge_labels(G,edge_labels = labels,pos = pos)\n",
    "    # title of the print\n",
    "    plt.title(\"Conjunctive graph associate with : {}\".format(schedule))\n",
    "    plt.show()\n",
    "\n",
    "setattr(Node , \"_print_graph\" , _print_graph)"
   ]
  },
  {
   "cell_type": "markdown",
   "metadata": {},
   "source": [
    "We can also do our graph with the help of matplotlib : **https://plotly.com/python/network-graphs/**"
   ]
  },
  {
   "cell_type": "code",
   "execution_count": 43,
   "metadata": {},
   "outputs": [
    {
     "data": {
      "image/png": "[encoded data removed]",
      "text/plain": [
       "<Figure size 504x504 with 1 Axes>"
      ]
     },
     "metadata": {},
     "output_type": "display_data"
    }
   ],
   "source": [
    "tab = [6, 1, 2, 3, 4, 5, 7] # schedule of the subject\n",
    "e._print_graph(tab , [1, 2, 3, 4] ,7,7) # print of the schedule."
   ]
  },
  {
   "cell_type": "markdown",
   "metadata": {},
   "source": [
    "The objective now is to create an algorithme that find the longest path in this graph. Because of the structure of the graph, we can add somme intelligence to the alogrithm. We will first parcour, all the node in the schedule. Then we will look at the output node *t*"
   ]
  },
  {
   "cell_type": "code",
   "execution_count": 44,
   "metadata": {},
   "outputs": [],
   "source": [
    "def _longest_path(self, schedule):\n",
    "    '''\n",
    "    output : python dictionnary\n",
    "        - value : the length of the longest past\n",
    "        - path : the tasks of N in the path.\n",
    "    '''\n",
    "\n",
    "    L = {}      # dictionnary that will contain the distances\n",
    "    pred = {}   # dictionnary that will contain the predecessors\n",
    "\n",
    "\n",
    "    # 1 : initiation of the values\n",
    "\n",
    "    L['s'] = 0\n",
    "    pred['s'] = 's'\n",
    "\n",
    "    L['t'] = -math.inf\n",
    "\n",
    "    \n",
    "    for k in schedule :\n",
    "        L[k] = self._a[k]\n",
    "        pred[k] = 's'\n",
    "\n",
    "    # 2 : propagation of the solution :\n",
    "\n",
    "    for i in range(len(schedule)) :\n",
    "\n",
    "        curr = schedule[i]                  #    current node to treat.\n",
    "                                            #    we'll check the succesors of curr \n",
    "        if i != len(schedule)-1 :\n",
    "\n",
    "            next = schedule[i+1]            # next node in the order.\n",
    "            new_L = L[curr]+self._d[curr]\n",
    "\n",
    "            if (new_L > L[next]) :\n",
    "                L[next] = new_L\n",
    "                pred[next] = curr\n",
    "        \n",
    "                                            # we'll change the value of the path to t\n",
    "                                            # from the current node.\n",
    "                                            \n",
    "        new_t = L[curr]+self._d[curr]+self._q[curr]\n",
    "\n",
    "        if new_t > L['t'] :\n",
    "            pred['t'] = curr\n",
    "            L['t'] = new_t\n",
    "\n",
    "    \n",
    "    # backpropagation to find the path\n",
    "    temp = 't'\n",
    "    makespan = L['t']\n",
    "    path = ['t']\n",
    "\n",
    "\n",
    "    while temp !='s':\n",
    "\n",
    "        path.insert(0,pred[temp]) # add to the begining\n",
    "        temp = pred[temp]\n",
    "\n",
    "    path.pop()\n",
    "    path.pop(0)\n",
    "    \n",
    "\n",
    "    res = {'value' : makespan , 'path' : path}\n",
    "\n",
    "\n",
    "    \n",
    "    return(res)\n",
    "\n",
    "\n",
    "setattr(Node , \"_longest_path\" , _longest_path)"
   ]
  },
  {
   "cell_type": "code",
   "execution_count": 47,
   "metadata": {},
   "outputs": [
    {
     "data": {
      "text/plain": [
       "{'value': 53, 'path': [1, 2, 3, 4]}"
      ]
     },
     "execution_count": 47,
     "metadata": {},
     "output_type": "execute_result"
    }
   ],
   "source": [
    "e._longest_path(tab)"
   ]
  },
  {
   "cell_type": "markdown",
   "metadata": {},
   "source": [
    "#### Work on the Schrage schedule"
   ]
  },
  {
   "cell_type": "markdown",
   "metadata": {},
   "source": [
    "Now we need to find the schrage schedule. This particular schedule, is at the heart of the proble, and will help us to find a solution of the problem. The schrage schedule of a given node, is just a special permutation of the set _N of this node. The next function will show how to find this schedule."
   ]
  },
  {
   "cell_type": "code",
   "execution_count": 59,
   "metadata": {},
   "outputs": [],
   "source": [
    "def _schrage_schedule(self) :\n",
    "        #       Step 1\n",
    "        n = len(self._N)\n",
    "        U = []\n",
    "        b_U = self._N.copy()\n",
    "        t = min([self._a[i] for i in b_U])\n",
    "\n",
    "        #       step 2 and 3\n",
    "        while (len(U) != n) :\n",
    "                arg_set = []                        # set where we search for the argmax\n",
    "                for j in b_U :\n",
    "                        if self._a[j] <= t :\n",
    "                                arg_set.append(j)\n",
    "\n",
    "                buff = [self._q[j] for j in arg_set]\n",
    "\n",
    "                idx_arg_max = np.argmax(buff)\n",
    "                i = arg_set[idx_arg_max]\n",
    "\n",
    "                b_U.remove(i)\n",
    "                U.append(i)\n",
    "\n",
    "                ti = t\n",
    "                buff = [self._a[j] for j in b_U]\n",
    "\n",
    "                if len(buff)==0 :\n",
    "                        t = ti + self._d[i]\n",
    "                else :\n",
    "                        t = max(ti + self._d[i] , min(buff))\n",
    "\n",
    "        return U\n",
    "\n",
    "setattr(Node , \"_schrage_schedule\" , _schrage_schedule)"
   ]
  },
  {
   "cell_type": "code",
   "execution_count": 60,
   "metadata": {},
   "outputs": [
    {
     "data": {
      "text/plain": [
       "[6, 1, 2, 3, 4, 5, 7]"
      ]
     },
     "execution_count": 60,
     "metadata": {},
     "output_type": "execute_result"
    }
   ],
   "source": [
    "e._schrage_schedule()"
   ]
  },
  {
   "cell_type": "code",
   "execution_count": 58,
   "metadata": {},
   "outputs": [
    {
     "name": "stdout",
     "output_type": "stream",
     "text": [
      "Task :  1 2 3 4 5 6 7 \n",
      "        10 13 11 20 30 0 30 \n",
      "        5 6 7 4 3 6 2 \n",
      "        7 26 24 21 8 17 0 "
     ]
    }
   ],
   "source": [
    "e._to_string()"
   ]
  },
  {
   "cell_type": "code",
   "execution_count": 20,
   "metadata": {},
   "outputs": [],
   "source": [
    "def _schrage_makespan(self) :\n",
    "    '''\n",
    "    output : {'makespan' : int , 'longest_path : int []}\n",
    "\n",
    "        'longest_path' : list of element of self._N.\n",
    "        'makespan' : length of the longest path (length of longest path).\n",
    "    '''\n",
    "\n",
    "    res = {'makespan' : 0 , 'longest_path' : []}\n",
    "\n",
    "    shr_schedule = self._schrage_schedule()         # given a node we calculate the schrage schedule\n",
    "    long_path = self._longest_path(shr_schedule)    # calculus of the longest path --> path + makespan\n",
    "\n",
    "\n",
    "    res[\"longest_path\"] = long_path['path']         # storage of the path\n",
    "    res[\"makespan\"] = long_path['value']            # storage of the length of the path.\n",
    "\n",
    "    return(res)\n",
    "\n",
    "\n",
    "setattr(Node , \"_schrage_makespan\" , _schrage_makespan)"
   ]
  },
  {
   "cell_type": "markdown",
   "metadata": {},
   "source": [
    "#### Recherche des ensembles critiques"
   ]
  },
  {
   "cell_type": "markdown",
   "metadata": {},
   "source": [
    "Dans cette section, nous allons nous concentrer sur la recherche des ensembles critiques qui sont liés à un noeud en particulier. Ces ensembles critiques vont nous permettre d'identifier dans notre programmation les ensembles qui posent problème."
   ]
  },
  {
   "cell_type": "code",
   "execution_count": 21,
   "metadata": {},
   "outputs": [],
   "source": [
    "def _critical_search(self,schedule) :\n",
    "\n",
    "    '''\n",
    "    input : python array\n",
    "        - the array is a permutation of the set self._N\n",
    "\n",
    "    output : python dictionnary\n",
    "        - makespan : time of the schedule\n",
    "        - J : critical set (if it exists)\n",
    "        - jc : critical task (if it exists)\n",
    "        - status : status of the schrage schedule\n",
    "    '''\n",
    "    \n",
    "    output = self._longest_path(schedule) # search for the longest path\n",
    "    path = output['path']                 # get the path\n",
    "    makespan = output['value']            # time that the schedule will take\n",
    "\n",
    "\n",
    "    jp = path[-1]           # last task to worry about\n",
    "    target = self._q[jp]\n",
    "    J = [jp]                # critical set\n",
    "    jc = -1                 # critical task\n",
    "    status = ''             # status of the schedule.\n",
    "\n",
    "    # search of a potential critical task  --> we search from the end to the begining of the path.\n",
    "    # the critical set will grow wathever happens.\n",
    "\n",
    "    for i in range(len(path)-2 , -1 , -1) :\n",
    "\n",
    "        jk = path[i]\n",
    "        buff = self._q[jk]\n",
    "\n",
    "        if (buff<target) :\n",
    "            # critical set found, we stop.\n",
    "            jc = jk\n",
    "            break\n",
    "        else :\n",
    "            J.append(jk)\n",
    "\n",
    "    \n",
    "    if(jc == -1):\n",
    "        # critical task not found --> schedule is optimal\n",
    "        #                         --> the critical set doesn't exists\n",
    "        J = []\n",
    "        status = 'optimal'\n",
    "    else :\n",
    "        status = 'not_optimal'\n",
    "\n",
    "    \n",
    "    # dictionnary to return\n",
    "    res = {'makespan' : makespan , 'J' : J , 'jc' : jc , 'status' : status}\n",
    "\n",
    "    return(res)\n",
    "\n",
    "setattr(Node,\"_critical_search\",_critical_search)"
   ]
  },
  {
   "cell_type": "code",
   "execution_count": 22,
   "metadata": {},
   "outputs": [
    {
     "data": {
      "text/plain": [
       "{'makespan': 53, 'J': [4, 3, 2], 'jc': 1, 'status': 'not_optimal'}"
      ]
     },
     "execution_count": 22,
     "metadata": {},
     "output_type": "execute_result"
    }
   ],
   "source": [
    "e._critical_search(tab)"
   ]
  },
  {
   "cell_type": "code",
   "execution_count": 63,
   "metadata": {},
   "outputs": [],
   "source": [
    "def _lower_bound(self , I) :\n",
    "\n",
    "    a = min([self._a[i] for i in I])\n",
    "    d = sum([self._d[i] for i in I])\n",
    "\n",
    "    q = min([self._q[i] for i in I])\n",
    "\n",
    "    return(a+d+q)\n",
    "\n",
    "setattr(Node,\"_lower_bound\",_lower_bound)"
   ]
  },
  {
   "cell_type": "markdown",
   "metadata": {},
   "source": [
    "#### Creation of the nodes"
   ]
  },
  {
   "cell_type": "code",
   "execution_count": 79,
   "metadata": {},
   "outputs": [],
   "source": [
    "def _nodes_creation(self , J , jc):\n",
    "\n",
    "    ''' \n",
    "    output : python array\n",
    "        - the first node is the node where we changed the value of q\n",
    "        - the second node is the node where we changed the value of a\n",
    "    '''\n",
    "    jp = J[0]\n",
    "\n",
    "    q_jc = sum([self._d[r] for r in J]) + self._q[jp]\n",
    "    a_jc = min([self._a[r] for r in J]) + sum([self._d[r] for r in J])\n",
    "\n",
    "    N = self._N.copy()\n",
    "\n",
    "    a1 = []\n",
    "    a2 = []\n",
    "\n",
    "    d1 = []\n",
    "    d2 = []\n",
    "\n",
    "    q1 = []\n",
    "    q2 = []\n",
    "\n",
    "    for i in N :\n",
    "        a1.append(self._a[i])\n",
    "        a2.append(self._a[i])\n",
    "        d1.append(self._d[i])\n",
    "        d2.append(self._d[i])\n",
    "        q1.append(self._q[i])\n",
    "        q2.append(self._q[i])\n",
    "\n",
    "    e1 = Node(N , a1 , d1 , q1)\n",
    "    e2 = Node(N , a2 , d2 , q2)\n",
    "\n",
    "    e1._q[jc] = q_jc\n",
    "    e2._a[jc] = a_jc\n",
    "\n",
    "    return([e1,e2])\n",
    "setattr(Node,\"_nodes_creation\",_nodes_creation)"
   ]
  },
  {
   "cell_type": "code",
   "execution_count": null,
   "metadata": {},
   "outputs": [],
   "source": []
  },
  {
   "cell_type": "code",
   "execution_count": null,
   "metadata": {},
   "outputs": [],
   "source": []
  },
  {
   "cell_type": "code",
   "execution_count": 84,
   "metadata": {},
   "outputs": [],
   "source": [
    "def branch_n_bound(N , a , d , q) :\n",
    "\n",
    "    Tree = []       # list of all nodes created (a list of Node objects)\n",
    "    Queue = []      # list of nodes to process (a list of integers with the index of nodes to process in the Tree)\n",
    "    UB = math.inf   # set the upper bound to a sufficiently large number\n",
    "                    \n",
    "    ϵ = 0.0001      # an optimality tolerance of %0.01\n",
    "    incumbent = []  # initialize the incumbent solution\n",
    "\n",
    "    root = Node(N , a , d , q)      # at the root node no variables are fixed \n",
    "    Tree.append(root)               # start the tree with the root node\n",
    "    Queue.append(0)\n",
    "\n",
    "    LB = root._lower_bound(N)\n",
    "\n",
    "    while (Queue!=[]) :\n",
    "        currentindex = Queue[0]             # note that we follow a first-in-first-out node processing strategy\n",
    "        currentnode = Tree[currentindex]\n",
    "\n",
    "        #   evaluation step :\n",
    "        shr_schedule = currentnode._schrage_schedule()\n",
    "        output = currentnode._critical_search(shr_schedule)\n",
    "        incumbent = shr_schedule\n",
    "        currentUB = output['makespan']\n",
    "\n",
    "\n",
    "        #   --> update of the upper bound\n",
    "        if currentUB < UB :\n",
    "            UB = currentUB\n",
    "\n",
    "\n",
    "        if (output['status']=='not_optimal') :\n",
    "            #   creation of the nodes\n",
    "            e1 , e2 = currentnode._nodes_creation(output['J'],output['jc'])\n",
    "\n",
    "            Queue.append(len(Tree))\n",
    "            Queue.append(len(Tree)+1)\n",
    "\n",
    "            Tree.append(e1)\n",
    "            Tree.append(e2)\n",
    "\n",
    "            #   update of the lower bound\n",
    "            lb_1 = max(LB , e1._lower_bound(output['J']) , e1._lower_bound(output['J']+[output['jc']] ))\n",
    "            lb_2 = max(LB , e2._lower_bound(output['J']) , e2._lower_bound(output['J']+[output['jc']] ))\n",
    "\n",
    "            LB = min(lb_1 , lb_2)\n",
    "        \n",
    "        Queue.remove(currentindex)\n",
    "\n",
    "\n",
    "\n",
    "    return {'UB' : UB , 'LB' : LB , 'SCHD': incumbent}\n",
    "\n",
    "\n",
    "    "
   ]
  },
  {
   "cell_type": "code",
   "execution_count": 85,
   "metadata": {},
   "outputs": [
    {
     "data": {
      "text/plain": [
       "{'UB': 50, 'LB': 50, 'SCHD': [6, 2, 3, 4, 5, 1, 7]}"
      ]
     },
     "execution_count": 85,
     "metadata": {},
     "output_type": "execute_result"
    }
   ],
   "source": [
    "N = list(range(1,8))\n",
    "a = [10,13,11,20,30,0,30]\n",
    "d = [5,6,7,4,3,6,2]\n",
    "q = [7,26,24,21,8,17,0]\n",
    "\n",
    "branch_n_bound(N , a , d , q)"
   ]
  },
  {
   "cell_type": "code",
   "execution_count": null,
   "metadata": {},
   "outputs": [],
   "source": []
  }
 ],
 "metadata": {
  "interpreter": {
   "hash": "d67c45d9b186088e3b99159ee691d7fe09cdbf8c17773fe23166cc55db3a2440"
  },
  "kernelspec": {
   "display_name": "Python 3.9.7 64-bit ('opti': conda)",
   "language": "python",
   "name": "python3"
  },
  "language_info": {
   "codemirror_mode": {
    "name": "ipython",
    "version": 3
   },
   "file_extension": ".py",
   "mimetype": "text/x-python",
   "name": "python",
   "nbconvert_exporter": "python",
   "pygments_lexer": "ipython3",
   "version": "3.9.7"
  },
  "orig_nbformat": 4
 },
 "nbformat": 4,
 "nbformat_minor": 2
}
